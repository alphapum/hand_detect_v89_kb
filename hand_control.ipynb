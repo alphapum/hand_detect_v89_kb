{
 "cells": [
  {
   "cell_type": "markdown",
   "metadata": {},
   "source": [
    "### MQTT FUNCTIONS"
   ]
  },
  {
   "cell_type": "code",
   "execution_count": 6,
   "metadata": {},
   "outputs": [
    {
     "name": "stdout",
     "output_type": "stream",
     "text": [
      "Collecting python-dotenv\n",
      "  Using cached python_dotenv-1.0.0-py3-none-any.whl (19 kB)\n",
      "Installing collected packages: python-dotenv\n",
      "Successfully installed python-dotenv-1.0.0\n"
     ]
    },
    {
     "name": "stderr",
     "output_type": "stream",
     "text": [
      "\n",
      "[notice] A new release of pip is available: 23.1.2 -> 23.2.1\n",
      "[notice] To update, run: python.exe -m pip install --upgrade pip\n"
     ]
    }
   ],
   "source": [
    "# !pip install paho-mqtt\n",
    "# !pip install python-dotenv"
   ]
  },
  {
   "cell_type": "code",
   "execution_count": 1,
   "metadata": {},
   "outputs": [],
   "source": [
    "import paho.mqtt.client as mqtt\n",
    "\n",
    "import os\n",
    "from dotenv import load_dotenv\n",
    "\n",
    "load_dotenv()\n",
    "client_name = os.environ.get('client')\n",
    "token = os.environ.get('token')\n",
    "server_name = os.environ.get('server')\n",
    "port = os.environ.get('port')"
   ]
  },
  {
   "cell_type": "code",
   "execution_count": 2,
   "metadata": {},
   "outputs": [],
   "source": [
    "def on_connect(client, userdata, flags, rc):\n",
    "    if rc == 0:\n",
    "        print(\"Connected to MQTT broker\")\n",
    "    else:\n",
    "        print(f\"Connection failed with code {rc}\")\n",
    "        exit()\n"
   ]
  },
  {
   "cell_type": "code",
   "execution_count": 3,
   "metadata": {},
   "outputs": [],
   "source": [
    "def mqtt_connects(data ):\n",
    "        \n",
    "    # Create an MQTT client instance\n",
    "    client = mqtt.Client()\n",
    "    # Set username and password for authentication\n",
    "    username = client_name\n",
    "    password = token\n",
    "    client.username_pw_set(username, password)\n",
    "    # Set the callback function\n",
    "    client.on_connect = on_connect\n",
    "\n",
    "    # Connect to the MQTT broker (replace with your broker's IP/hostname)\n",
    "    broker_address = server_name\n",
    "    client.connect(broker_address, int(port), 60)\n",
    "\n",
    "\n",
    "\n",
    "    # Start the MQTT client loop in a non-blocking thread\n",
    "    client.loop_start()\n",
    "\n",
    "    try:\n",
    "        previous_message = \"\"\n",
    "        message = data\n",
    "\n",
    "\n",
    "        # Publish a message to a specific topic\n",
    "\n",
    "        if message != previous_message:\n",
    "            # Publish a message to a specific topic\n",
    "            topic = \"/hand_d/get/data\"\n",
    "            client.publish(topic, message)\n",
    "            \n",
    "            print(f\"Message published: {message}\")\n",
    "            previous_message = message\n",
    "            # return True\n",
    "        # topic = \"test/topic\"\n",
    "        # client.publish(topic, message)\n",
    "        else:\n",
    "            print(\"Message unchanged. Not publishing.\")\n",
    "\n",
    "            # return False\n",
    "        print(\"Message published. Disconnecting...\")\n",
    "\n",
    "    except Exception as e:\n",
    "        print(\"An error occurred:\", str(e))\n",
    "        return False\n",
    "\n",
    "    finally:\n",
    "        # Disconnect the MQTT client\n",
    "        client.loop_stop()\n",
    "        client.disconnect()\n",
    "        print(\"Disconnected from MQTT broker\")\n",
    "\n"
   ]
  },
  {
   "cell_type": "markdown",
   "metadata": {},
   "source": [
    "## Hand Detection Send Data"
   ]
  },
  {
   "cell_type": "code",
   "execution_count": 4,
   "metadata": {},
   "outputs": [],
   "source": [
    "import cv2\n",
    "import mediapipe as mp\n",
    "from google.protobuf.json_format import MessageToDict\n",
    "\n",
    "# MediaPipe hand detection module\n",
    "mp_drawing = mp.solutions.drawing_utils\n",
    "mp_hands = mp.solutions.hands\n",
    "# hand = mp_hands.Hands()\n",
    "\n"
   ]
  },
  {
   "cell_type": "markdown",
   "metadata": {},
   "source": [
    "## Function Count And Send to MQTT"
   ]
  },
  {
   "cell_type": "code",
   "execution_count": 9,
   "metadata": {},
   "outputs": [],
   "source": [
    "def process_frame(frame  ,old_count):\n",
    "    # Flip the frame horizontally\n",
    "\n",
    "    frame = cv2.flip(frame, 1)\n",
    "\n",
    "    # Process the frame with MediaPipe\n",
    "    results = hands.process(cv2.cvtColor(frame, cv2.COLOR_BGR2RGB))\n",
    "\n",
    "    # Count the number of fingers\n",
    "    finger_count = 0\n",
    "    \n",
    "\n",
    "    if results.multi_hand_landmarks:\n",
    "        for hand_landmarks in results.multi_hand_landmarks:\n",
    "            # Calculate the finger count\n",
    "            if   hand_landmarks.landmark[mp_hands.HandLandmark.THUMB_TIP].y < hand_landmarks.landmark[mp_hands.HandLandmark.INDEX_FINGER_MCP].y:\n",
    "                finger_count += 1\n",
    "            if hand_landmarks.landmark[mp_hands.HandLandmark.INDEX_FINGER_TIP].y < hand_landmarks.landmark[mp_hands.HandLandmark.INDEX_FINGER_PIP].y:\n",
    "                finger_count += 1\n",
    "            if hand_landmarks.landmark[mp_hands.HandLandmark.MIDDLE_FINGER_TIP].y < hand_landmarks.landmark[mp_hands.HandLandmark.MIDDLE_FINGER_PIP].y:\n",
    "                finger_count += 1\n",
    "            if hand_landmarks.landmark[mp_hands.HandLandmark.RING_FINGER_TIP].y < hand_landmarks.landmark[mp_hands.HandLandmark.RING_FINGER_PIP].y:\n",
    "                finger_count += 1\n",
    "            if hand_landmarks.landmark[mp_hands.HandLandmark.PINKY_TIP].y < hand_landmarks.landmark[mp_hands.HandLandmark.PINKY_PIP].y:\n",
    "                finger_count += 1\n",
    "\n",
    "            # Draw hand landmarks on the frame\n",
    "            mp_drawing.draw_landmarks(frame, hand_landmarks, mp_hands.HAND_CONNECTIONS)\n",
    "\n",
    "    # Draw finger count on the frame\n",
    "    cv2.putText(frame, f\"Finger Count: {finger_count}\", (10, 30), cv2.FONT_HERSHEY_SIMPLEX, 0.8, (0, 0, 255), 2)\n",
    "     \n",
    "\n",
    "    \n",
    "    if (finger_count == old_count[0] ):\n",
    "        already = True\n",
    "\n",
    "    elif  (finger_count != old_count[0] ):\n",
    "        old_count[0] = finger_count\n",
    "        mqtt_connects(old_count[0])\n",
    "\n",
    "    else:\n",
    "        print( \" - else - \")\n",
    "\n",
    "    \n",
    "    #Display the resulting frame\n",
    "    cv2.imshow('Finger Count', frame)"
   ]
  },
  {
   "cell_type": "markdown",
   "metadata": {},
   "source": [
    "## Functions ON Lamp\n"
   ]
  },
  {
   "cell_type": "code",
   "execution_count": 5,
   "metadata": {},
   "outputs": [],
   "source": [
    "def process_frame_on_lamp(frame ,old_state  ):\n",
    "    # Flip the frame horizontally\n",
    "    # label_hand = \"\"\n",
    "    frame = cv2.flip(frame, 1)\n",
    "\n",
    "    # Process the frame with MediaPipe\n",
    "    results = hands.process(cv2.cvtColor(frame, cv2.COLOR_BGR2RGB))\n",
    "\n",
    "    # Count the number of fingers\n",
    "    \n",
    "    \n",
    "\n",
    "    if results.multi_hand_landmarks:\n",
    "\n",
    "\n",
    "        if len(results.multi_handedness) == 2:\n",
    "                # Display 'Both Hands' on the image\n",
    "            # send_mqtt_one_time(old_state,'Both Hands') \n",
    "            cv2.putText(frame, 'Both Hands', (250, 50),\n",
    "            cv2.FONT_HERSHEY_COMPLEX,0.9, (0, 255, 0), 2)\n",
    "        else:\n",
    "            for i in results.multi_handedness:\n",
    "                \n",
    "                # Return whether it is Right or Left Hand\n",
    "                label = MessageToDict(i)['classification'][0]['label']\n",
    "  \n",
    "                if label == 'Left':\n",
    "                    \n",
    "                    # Display 'Left Hand' on\n",
    "                    # left side of window\n",
    "                    cv2.putText(frame, label+' Hand',\n",
    "                                (20, 50),\n",
    "                                cv2.FONT_HERSHEY_COMPLEX, \n",
    "                                0.9, (0, 255, 0), 2)\n",
    "                    \n",
    "                    send_mqtt_one_time(old_state,label)\n",
    "  \n",
    "                if label == 'Right':\n",
    "                      \n",
    "                    # Display 'Left Hand'\n",
    "                    # on left side of window\n",
    "                    cv2.putText(frame, label+' Hand', (460, 50),\n",
    "                                cv2.FONT_HERSHEY_COMPLEX,\n",
    "                                0.9, (0, 255, 0), 2)\n",
    " \n",
    "                    \n",
    "                    send_mqtt_one_time(old_state,label)\n",
    "\n",
    "        for handLms in results.multi_hand_landmarks:\n",
    "            mp_drawing.draw_landmarks(frame, handLms,mp_hands.HAND_CONNECTIONS )\n",
    "    \n",
    "\n",
    "    cv2.imshow('Hand ',frame)\n",
    "\n"
   ]
  },
  {
   "cell_type": "code",
   "execution_count": 6,
   "metadata": {},
   "outputs": [],
   "source": [
    "def check_status_change(previous_status, current_status):\n",
    "    if previous_status != current_status:\n",
    "        return True\n",
    "    return False\n",
    "def send_mqtt_one_time(old_state , now_state ):\n",
    "\n",
    "    if check_status_change(old_state[0], now_state):\n",
    "        if now_state == '':\n",
    "            return \n",
    "        else:\n",
    "            # print(old_state[0])\n",
    "\n",
    "            old_state[0] = now_state \n",
    "            # print(\"Status has changed!\")\n",
    "            mqtt_connects(now_state)\n",
    "            return \n"
   ]
  },
  {
   "cell_type": "markdown",
   "metadata": {},
   "source": [
    "## Run Functions"
   ]
  },
  {
   "cell_type": "code",
   "execution_count": 8,
   "metadata": {},
   "outputs": [
    {
     "name": "stdout",
     "output_type": "stream",
     "text": [
      "Message published: Left\n",
      "Message published. Disconnecting...\n",
      "Connected to MQTT broker\n",
      "Disconnected from MQTT broker\n",
      "Message published: Right\n",
      "Message published. Disconnecting...\n",
      "Connected to MQTT broker\n",
      "Disconnected from MQTT broker\n",
      "Message published: Left\n",
      "Message published. Disconnecting...\n",
      "Connected to MQTT broker\n",
      "Disconnected from MQTT broker\n",
      "Message published: Right\n",
      "Message published. Disconnecting...\n",
      "Connected to MQTT broker\n",
      "Disconnected from MQTT broker\n",
      "Message published: Left\n",
      "Message published. Disconnecting...\n",
      "Connected to MQTT broker\n",
      "Disconnected from MQTT broker\n",
      "Message published: Right\n",
      "Message published. Disconnecting...\n",
      "Connected to MQTT broker\n",
      "Disconnected from MQTT broker\n",
      "Message published: Left\n",
      "Message published. Disconnecting...\n",
      "Disconnected from MQTT broker\n",
      "Message published: Right\n",
      "Message published. Disconnecting...\n",
      "Disconnected from MQTT broker\n",
      "Message published: Left\n",
      "Message published. Disconnecting...\n",
      "Connected to MQTT broker\n",
      "Disconnected from MQTT broker\n",
      "Message published: Right\n",
      "Message published. Disconnecting...\n",
      "Connected to MQTT broker\n",
      "Disconnected from MQTT broker\n"
     ]
    }
   ],
   "source": [
    "# OpenCV video capture\n",
    "cap = cv2.VideoCapture(1)\n",
    "old_count = [0]\n",
    "old_state = [\"hand\"]\n",
    "\n",
    "# Create a hands object\n",
    "with mp_hands.Hands(\n",
    "    static_image_mode=False,\n",
    "    max_num_hands=2,\n",
    "    min_detection_confidence=0.90,\n",
    "    min_tracking_confidence=0.90) as hands:\n",
    "\n",
    "\n",
    "    # Main program loop\n",
    "    while cap.isOpened():\n",
    "        ret, frame = cap.read()\n",
    "\n",
    "        if not ret:\n",
    "            break\n",
    "\n",
    "        # process_frame(frame  ,old_count ) # Finger Count\n",
    "        process_frame_on_lamp(frame,old_state ) # Check Hand\n",
    "\n",
    "        if cv2.waitKey(10) & 0xFF == ord('q'):\n",
    "            break\n",
    "\n",
    "cap.release()\n",
    "cv2.destroyAllWindows()"
   ]
  },
  {
   "cell_type": "markdown",
   "metadata": {},
   "source": [
    "## TEST SCRIPS"
   ]
  },
  {
   "cell_type": "code",
   "execution_count": null,
   "metadata": {},
   "outputs": [
    {
     "name": "stdout",
     "output_type": "stream",
     "text": [
      "Message published. Disconnecting...\n",
      "Connected to MQTT broker\n",
      "Disconnected from MQTT broker\n"
     ]
    }
   ],
   "source": [
    "mqtt_connects(\"Test 22\")"
   ]
  },
  {
   "cell_type": "code",
   "execution_count": null,
   "metadata": {},
   "outputs": [
    {
     "name": "stdout",
     "output_type": "stream",
     "text": [
      "Printing data: 1\n"
     ]
    }
   ],
   "source": [
    "def process_frame(frame ,already ,old_count):\n",
    "    # Flip the frame horizontally\n",
    "\n",
    "    frame = cv2.flip(frame, 1)\n",
    "\n",
    "    # Process the frame with MediaPipe\n",
    "    results = hands.process(cv2.cvtColor(frame, cv2.COLOR_BGR2RGB))\n",
    "\n",
    "    # Count the number of fingers\n",
    "    finger_count = 0\n",
    "    \n",
    "\n",
    "    if results.multi_hand_landmarks:\n",
    "        for hand_landmarks in results.multi_hand_landmarks:\n",
    "            # Calculate the finger count\n",
    "            if   hand_landmarks.landmark[mp_hands.HandLandmark.THUMB_TIP].y < hand_landmarks.landmark[mp_hands.HandLandmark.INDEX_FINGER_MCP].y:\n",
    "                finger_count += 1\n",
    "            if hand_landmarks.landmark[mp_hands.HandLandmark.INDEX_FINGER_TIP].y < hand_landmarks.landmark[mp_hands.HandLandmark.INDEX_FINGER_PIP].y:\n",
    "                finger_count += 1\n",
    "            if hand_landmarks.landmark[mp_hands.HandLandmark.MIDDLE_FINGER_TIP].y < hand_landmarks.landmark[mp_hands.HandLandmark.MIDDLE_FINGER_PIP].y:\n",
    "                finger_count += 1\n",
    "            if hand_landmarks.landmark[mp_hands.HandLandmark.RING_FINGER_TIP].y < hand_landmarks.landmark[mp_hands.HandLandmark.RING_FINGER_PIP].y:\n",
    "                finger_count += 1\n",
    "            if hand_landmarks.landmark[mp_hands.HandLandmark.PINKY_TIP].y < hand_landmarks.landmark[mp_hands.HandLandmark.PINKY_PIP].y:\n",
    "                finger_count += 1\n",
    "\n",
    "            # Draw hand landmarks on the frame\n",
    "            mp_drawing.draw_landmarks(frame, hand_landmarks, mp_hands.HAND_CONNECTIONS)\n",
    "\n",
    "    # Draw finger count on the frame\n",
    "    cv2.putText(frame, f\"Finger Count: {finger_count}\", (10, 30), cv2.FONT_HERSHEY_SIMPLEX, 0.8, (0, 0, 255), 2)\n",
    "     \n",
    "    # print( \" - O - \")\n",
    "    # print(old_count[0])\n",
    "    # print( \" - F - \")\n",
    "    # print(old_count[1])\n",
    "\n",
    "    \n",
    "    if (finger_count == old_count[0] ):\n",
    "        already = True\n",
    "        # old_count[0] = finger_count\n",
    "        # print( \" - Old - \")\n",
    "        # print(old_count[0])\n",
    "    elif  (finger_count != old_count[0] ):\n",
    "        old_count[0] = finger_count\n",
    "    # if already:\n",
    "        # print( \" - xx - \")\n",
    "        # print(old_count[0])\n",
    "\n",
    "        mqtt_connects(old_count[0])\n",
    "        # already = False\n",
    "    else:\n",
    "        print( \" - else - \")\n",
    "\n",
    "    \n",
    "    #Display the resulting frame\n",
    "    cv2.imshow('Finger Count', frame)\n",
    "# OpenCV video capture\n",
    "cap = cv2.VideoCapture(0)\n",
    "data_already = False\n",
    "old_count = [0]\n",
    "# Create a hands object\n",
    "with mp_hands.Hands(\n",
    "    static_image_mode=False,\n",
    "    max_num_hands=2,\n",
    "    min_detection_confidence=0.5,\n",
    "    min_tracking_confidence=0.5) as hands:\n",
    "\n",
    "\n",
    "    # Main program loop\n",
    "    while cap.isOpened():\n",
    "        ret, frame = cap.read()\n",
    "\n",
    "        if not ret:\n",
    "            break\n",
    "\n",
    "        process_frame(frame ,data_already ,old_count )\n",
    "\n",
    "        if cv2.waitKey(10) & 0xFF == ord('q'):\n",
    "            break\n",
    "\n",
    "cap.release()\n",
    "cv2.destroyAllWindows()"
   ]
  },
  {
   "cell_type": "code",
   "execution_count": 93,
   "metadata": {},
   "outputs": [],
   "source": [
    "class StatusStateMachine:\n",
    "    def __init__(self):\n",
    "        self.state = \"On\"\n",
    "\n",
    "    def update_status(self, new_status):\n",
    "        if new_status == \"On\" and self.state != \"On\":\n",
    "            print(\"Status has changed to On!\")\n",
    "        elif new_status == \"Off\" and self.state != \"Off\":\n",
    "            print(\"Status has changed to Off!\")"
   ]
  },
  {
   "cell_type": "code",
   "execution_count": 92,
   "metadata": {},
   "outputs": [
    {
     "name": "stdout",
     "output_type": "stream",
     "text": [
      "Status has changed to Off!\n"
     ]
    }
   ],
   "source": [
    "# Example usage\n",
    "status_machine = StatusStateMachine()\n",
    "status_machine.update_status(\"On\")\n",
    "status_machine.update_status(\"Off\")"
   ]
  },
  {
   "cell_type": "code",
   "execution_count": 97,
   "metadata": {},
   "outputs": [
    {
     "name": "stdout",
     "output_type": "stream",
     "text": [
      "Status has changed to Off!\n"
     ]
    }
   ],
   "source": [
    "def status_changed_handler(new_status):\n",
    "    print(f\"Status has changed to {new_status}!\")\n",
    "\n",
    "# Example usage\n",
    "new_status = \"Off\"\n",
    "status_changed_handler(new_status)"
   ]
  }
 ],
 "metadata": {
  "kernelspec": {
   "display_name": "Hand_Detection-GuvXzzGQ",
   "language": "python",
   "name": "python3"
  },
  "language_info": {
   "codemirror_mode": {
    "name": "ipython",
    "version": 3
   },
   "file_extension": ".py",
   "mimetype": "text/x-python",
   "name": "python",
   "nbconvert_exporter": "python",
   "pygments_lexer": "ipython3",
   "version": "3.10.10"
  },
  "orig_nbformat": 4
 },
 "nbformat": 4,
 "nbformat_minor": 2
}
